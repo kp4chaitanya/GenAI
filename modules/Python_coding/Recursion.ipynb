{
 "cells": [
  {
   "cell_type": "code",
   "execution_count": 2,
   "id": "3d7875d2-5711-4209-9f28-065339e126c5",
   "metadata": {},
   "outputs": [],
   "source": [
    "def count_handshakes(total_persons_in_room):\n",
    "    #base condition total persons=2 then one hand shake\n",
    "    print(\"function is called with value \", total_persons_in_room)\n",
    "    if (total_persons_in_room)==2:\n",
    "        return 1\n",
    "    else:\n",
    "        #F(N)=F(N-1)+(N-1)-->Recursion\n",
    "        return count_handshakes(total_persons_in_room-1)+(total_persons_in_room-1)"
   ]
  },
  {
   "cell_type": "code",
   "execution_count": 3,
   "id": "fea80f80-f81b-4059-96d0-7787f4391cab",
   "metadata": {},
   "outputs": [
    {
     "name": "stdout",
     "output_type": "stream",
     "text": [
      "function is called with value  5\n",
      "function is called with value  4\n",
      "function is called with value  3\n",
      "function is called with value  2\n"
     ]
    },
    {
     "data": {
      "text/plain": [
       "10"
      ]
     },
     "execution_count": 3,
     "metadata": {},
     "output_type": "execute_result"
    }
   ],
   "source": [
    "count_handshakes(5)"
   ]
  },
  {
   "cell_type": "code",
   "execution_count": 5,
   "id": "559b215d-5ff1-4260-ba54-15b09085c882",
   "metadata": {},
   "outputs": [
    {
     "name": "stdout",
     "output_type": "stream",
     "text": [
      "function is called with value  4\n",
      "function is called with value  3\n",
      "function is called with value  2\n"
     ]
    }
   ],
   "source": [
    "result=count_handshakes(4)"
   ]
  },
  {
   "cell_type": "code",
   "execution_count": 6,
   "id": "e626af6d-0457-44ed-bf10-29f47519d086",
   "metadata": {},
   "outputs": [
    {
     "name": "stdout",
     "output_type": "stream",
     "text": [
      "6\n"
     ]
    }
   ],
   "source": [
    "print(result)"
   ]
  },
  {
   "cell_type": "code",
   "execution_count": 7,
   "id": "b93e7b2e-e769-4460-b011-8818ce1d15bd",
   "metadata": {},
   "outputs": [
    {
     "data": {
      "text/plain": [
       "10"
      ]
     },
     "execution_count": 7,
     "metadata": {},
     "output_type": "execute_result"
    }
   ],
   "source": [
    "#F(5)=F(4)+4\n",
    "#F(4)=6\n",
    "6+4"
   ]
  },
  {
   "cell_type": "code",
   "execution_count": 8,
   "id": "94b42fc1-64b4-4fa0-9c32-aaff0db6d14d",
   "metadata": {},
   "outputs": [],
   "source": [
    "def fun(n):\n",
    "    if n==1:\n",
    "        return 0\n",
    "    elif n==2:\n",
    "        return 1\n",
    "    else:\n",
    "        return fun(n-1)+ fun(n-2)"
   ]
  },
  {
   "cell_type": "code",
   "execution_count": 9,
   "id": "46739357-27b2-48b4-919c-0f0cfdacae58",
   "metadata": {},
   "outputs": [
    {
     "data": {
      "text/plain": [
       "3"
      ]
     },
     "execution_count": 9,
     "metadata": {},
     "output_type": "execute_result"
    }
   ],
   "source": [
    "fun(5)"
   ]
  },
  {
   "cell_type": "code",
   "execution_count": null,
   "id": "dc225227-81f6-4ab7-bded-e97ddf2049e0",
   "metadata": {},
   "outputs": [],
   "source": []
  }
 ],
 "metadata": {
  "kernelspec": {
   "display_name": "Python 3 (ipykernel)",
   "language": "python",
   "name": "python3"
  },
  "language_info": {
   "codemirror_mode": {
    "name": "ipython",
    "version": 3
   },
   "file_extension": ".py",
   "mimetype": "text/x-python",
   "name": "python",
   "nbconvert_exporter": "python",
   "pygments_lexer": "ipython3",
   "version": "3.11.7"
  }
 },
 "nbformat": 4,
 "nbformat_minor": 5
}
