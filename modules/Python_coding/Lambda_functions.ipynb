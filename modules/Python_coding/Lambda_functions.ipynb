{
 "cells": [
  {
   "cell_type": "markdown",
   "id": "aa89e7a1-5faa-4f99-bf97-a9da2a9c10cf",
   "metadata": {},
   "source": [
    "## Lambda function basic"
   ]
  },
  {
   "cell_type": "code",
   "execution_count": null,
   "id": "1f09b6a8-0a74-4562-874b-0ba0cf490127",
   "metadata": {},
   "outputs": [],
   "source": [
    "# adds 20 to the value in a variable\n",
    "var= lambda a:a+20"
   ]
  },
  {
   "cell_type": "code",
   "execution_count": 2,
   "id": "f96f60f5-a4ab-42a1-85ad-4076644eb20c",
   "metadata": {},
   "outputs": [
    {
     "data": {
      "text/plain": [
       "30"
      ]
     },
     "execution_count": 2,
     "metadata": {},
     "output_type": "execute_result"
    }
   ],
   "source": [
    "#lambda function call var(10) added 20 to the argument 10 and output is 30\n",
    "var(10)"
   ]
  },
  {
   "cell_type": "code",
   "execution_count": 3,
   "id": "0aebcdc1-14b7-4517-9422-33066078d385",
   "metadata": {},
   "outputs": [],
   "source": [
    "#lambda function which adds prefix 'camp' to the value passed into the variable a\n",
    "var1=lambda a : 'camp'+ a"
   ]
  },
  {
   "cell_type": "code",
   "execution_count": 7,
   "id": "9764769a-3672-4f5d-a192-052bf3803d97",
   "metadata": {},
   "outputs": [
    {
     "data": {
      "text/plain": [
       "'camp01'"
      ]
     },
     "execution_count": 7,
     "metadata": {},
     "output_type": "execute_result"
    }
   ],
   "source": [
    "#str_1 holds value '01'\n",
    "str_1='01'\n",
    "#when str_1 is passed to the lambda function call var1, the output returns is 'camp01'\n",
    "var1(str_1)"
   ]
  },
  {
   "cell_type": "code",
   "execution_count": 8,
   "id": "4468ea94-ec0c-41a8-9cff-c9561ce6ba38",
   "metadata": {},
   "outputs": [],
   "source": [
    "#given a string list\n",
    "list_1=['1','2','3']"
   ]
  },
  {
   "cell_type": "code",
   "execution_count": 10,
   "id": "b8f80114-e104-47c1-b180-154f57d08791",
   "metadata": {},
   "outputs": [
    {
     "name": "stdout",
     "output_type": "stream",
     "text": [
      "['camp1', 'camp2', 'camp3']\n"
     ]
    }
   ],
   "source": [
    "#iterating the above list and calling lambda function to add 'camp' prefix to each element and storing in a new list\n",
    "list_up=[]\n",
    "for i in list_1:\n",
    "    list_up.append(var1(i))\n",
    "\n",
    "#printing resultant list which has the keyword concatenated by using lambda function var1\n",
    "print(list_up)"
   ]
  },
  {
   "cell_type": "markdown",
   "id": "f98a61fb-1198-4894-bf5b-9c5e2bb54ec9",
   "metadata": {},
   "source": [
    "## lambda fun with multiple args"
   ]
  },
  {
   "cell_type": "code",
   "execution_count": 11,
   "id": "967287d6-90af-4e65-88f5-b9fd6c319837",
   "metadata": {},
   "outputs": [],
   "source": [
    "#lamda function to add two variables a and b\n",
    "sum_fun= lambda a,b :a+b"
   ]
  },
  {
   "cell_type": "code",
   "execution_count": 12,
   "id": "0e6476f0-f854-4d50-9544-2e0f78f8b13a",
   "metadata": {},
   "outputs": [
    {
     "data": {
      "text/plain": [
       "30"
      ]
     },
     "execution_count": 12,
     "metadata": {},
     "output_type": "execute_result"
    }
   ],
   "source": [
    "#lambda func call with args 10 and 20 which returns the sum as 30\n",
    "sum_fun(10,20)"
   ]
  },
  {
   "cell_type": "markdown",
   "id": "e771d53a-0838-4738-a8f6-72c93ef06a40",
   "metadata": {},
   "source": [
    "## filter() function"
   ]
  },
  {
   "cell_type": "code",
   "execution_count": 13,
   "id": "c0851845-89d4-47cd-96c2-59fe552c34af",
   "metadata": {},
   "outputs": [],
   "source": [
    "#Filter function takes a function and a list as arguments and filters all the elements for which the function condition is true"
   ]
  },
  {
   "cell_type": "code",
   "execution_count": 14,
   "id": "038a05ad-0e05-40c4-9b99-b1568a995fba",
   "metadata": {},
   "outputs": [],
   "source": [
    "#original list elements which has odd and even numbers\n",
    "original_list=[1,2,3,4,5,6,7,8,9,20]"
   ]
  },
  {
   "cell_type": "code",
   "execution_count": 15,
   "id": "73620560-2f83-4230-b2f0-d96ba8521280",
   "metadata": {},
   "outputs": [],
   "source": [
    "#filter func applied that takes two arguments:\n",
    "# 1. lambda function with input x which checks for condition x%2==0\n",
    "# 2. original list\n",
    "\n",
    "#so the original list is passed into the lambda function and the filter function\n",
    "# filters using the lambda function and returns the resultant which is stored using list() in filtered_list variable\n",
    "filtered_list=list(filter(lambda x: (x%2==0), original_list))"
   ]
  },
  {
   "cell_type": "code",
   "execution_count": 16,
   "id": "bd2af25a-ae85-41de-a862-065300836bd2",
   "metadata": {},
   "outputs": [
    {
     "name": "stdout",
     "output_type": "stream",
     "text": [
      "[2, 4, 6, 8, 20]\n"
     ]
    }
   ],
   "source": [
    "print(filtered_list)"
   ]
  },
  {
   "cell_type": "markdown",
   "id": "28c0db98-29f9-4e7c-92b9-51f1663e6d5e",
   "metadata": {},
   "source": [
    "## map() function"
   ]
  },
  {
   "cell_type": "code",
   "execution_count": null,
   "id": "af8eb973-450e-4723-a260-3cfb3ec695e3",
   "metadata": {},
   "outputs": [],
   "source": [
    "#map func takes a function and a list as arg.\n",
    "#map func applies the lambda func defined on the list elements"
   ]
  },
  {
   "cell_type": "code",
   "execution_count": 17,
   "id": "956847cc-ca64-407f-b790-fe7072073583",
   "metadata": {},
   "outputs": [],
   "source": [
    "org_list=['01','02','03','04','05']"
   ]
  },
  {
   "cell_type": "code",
   "execution_count": 18,
   "id": "ac21d344-98e9-4f9a-bfa9-da4dacd2a65d",
   "metadata": {},
   "outputs": [],
   "source": [
    "mapped_list=list(map(lambda x: ('camp'+ x), org_list))"
   ]
  },
  {
   "cell_type": "code",
   "execution_count": 19,
   "id": "ada725b6-c014-4766-839d-2e5c7607f8cf",
   "metadata": {},
   "outputs": [
    {
     "name": "stdout",
     "output_type": "stream",
     "text": [
      "['camp01', 'camp02', 'camp03', 'camp04', 'camp05']\n"
     ]
    }
   ],
   "source": [
    "print(mapped_list)"
   ]
  },
  {
   "cell_type": "markdown",
   "id": "799547ce-6248-41ee-ba40-bdfedb228bb6",
   "metadata": {},
   "source": [
    "## reduce() function"
   ]
  },
  {
   "cell_type": "code",
   "execution_count": 26,
   "id": "a2959aed-b703-4c19-8f42-85af59707420",
   "metadata": {},
   "outputs": [],
   "source": [
    "from functools import reduce"
   ]
  },
  {
   "cell_type": "code",
   "execution_count": 29,
   "id": "88ff1faa-b204-4520-b3c4-df731cc77830",
   "metadata": {},
   "outputs": [
    {
     "data": {
      "text/plain": [
       "[2, 4, 6, 8, 20]"
      ]
     },
     "execution_count": 29,
     "metadata": {},
     "output_type": "execute_result"
    }
   ],
   "source": [
    "filtered_list"
   ]
  },
  {
   "cell_type": "code",
   "execution_count": 27,
   "id": "f30427d6-5224-4ca5-ad56-e37294d19c80",
   "metadata": {},
   "outputs": [],
   "source": [
    "sum_list=reduce(lambda x,y: (x+y), filtered_list)"
   ]
  },
  {
   "cell_type": "code",
   "execution_count": 28,
   "id": "71799651-d9d4-4238-984a-1650224b41c8",
   "metadata": {},
   "outputs": [
    {
     "data": {
      "text/plain": [
       "40"
      ]
     },
     "execution_count": 28,
     "metadata": {},
     "output_type": "execute_result"
    }
   ],
   "source": [
    "sum_list"
   ]
  },
  {
   "cell_type": "code",
   "execution_count": 32,
   "id": "e4009e18-76b5-46ac-95bc-14742dd50298",
   "metadata": {},
   "outputs": [],
   "source": [
    "#largest number\n",
    "\n",
    "largest_number=reduce((lambda x,y : x if (x>y) else y), filtered_list)"
   ]
  },
  {
   "cell_type": "code",
   "execution_count": 33,
   "id": "99c9ce77-defa-4f03-b065-9588db811f83",
   "metadata": {},
   "outputs": [
    {
     "data": {
      "text/plain": [
       "20"
      ]
     },
     "execution_count": 33,
     "metadata": {},
     "output_type": "execute_result"
    }
   ],
   "source": [
    "largest_number"
   ]
  },
  {
   "cell_type": "code",
   "execution_count": null,
   "id": "679c8032-c83e-437d-a608-0457d04a979b",
   "metadata": {},
   "outputs": [],
   "source": []
  }
 ],
 "metadata": {
  "kernelspec": {
   "display_name": "Python 3 (ipykernel)",
   "language": "python",
   "name": "python3"
  },
  "language_info": {
   "codemirror_mode": {
    "name": "ipython",
    "version": 3
   },
   "file_extension": ".py",
   "mimetype": "text/x-python",
   "name": "python",
   "nbconvert_exporter": "python",
   "pygments_lexer": "ipython3",
   "version": "3.11.7"
  }
 },
 "nbformat": 4,
 "nbformat_minor": 5
}
